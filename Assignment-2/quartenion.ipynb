{
 "cells": [
  {
   "cell_type": "code",
   "execution_count": 13,
   "metadata": {},
   "outputs": [],
   "source": [
    "import numpy as np"
   ]
  },
  {
   "cell_type": "code",
   "execution_count": 14,
   "metadata": {},
   "outputs": [],
   "source": [
    "def vector_outer_multiplication(v1, v2):\n",
    "    \"\"\"\n",
    "    v1, v2: 3d vectors\n",
    "    return: 3x3 matrix\n",
    "    \"\"\"\n",
    "    return np.array([[v1[0]*v2[0], v1[0]*v2[1], v1[0]*v2[2]],\n",
    "                     [v1[1]*v2[0], v1[1]*v2[1], v1[1]*v2[2]],\n",
    "                     [v1[2]*v2[0], v1[2]*v2[1], v1[2]*v2[2]]])"
   ]
  },
  {
   "cell_type": "code",
   "execution_count": 15,
   "metadata": {},
   "outputs": [],
   "source": [
    "# 4x4 matrix\n",
    "def convert_to_quartenion_matrix(K):\n",
    "    \"\"\"\n",
    "    K: 3x3 matrix\n",
    "    return: 4x4 matrix\n",
    "    \"\"\"\n",
    "    K_hat = np.array([\n",
    "        [K[0,0]+K[1,1]+K[2,2], K[2,1]-K[1,2], K[0,2]-K[2,0], K[1,0]-K[0,1]],\n",
    "        [K[2,1]-K[1,2], K[0,0]-K[1,1]-K[2,2], K[0,1]+K[1,0], K[2,0]+K[0,2]],\n",
    "        [K[0,2]-K[2,0], K[0,1]+K[1,0], -K[0,0]+K[1,1]-K[2,2], K[1,2]+K[2,1]],\n",
    "        [K[1,0]-K[0,1], K[2,0]+K[0,2], K[1,2]+K[2,1], -K[0,0]-K[1,1]+K[2,2]],\n",
    "    ])\n",
    "    \n",
    "    return K_hat"
   ]
  },
  {
   "cell_type": "code",
   "execution_count": 16,
   "metadata": {},
   "outputs": [],
   "source": [
    "from numpy import linalg as LA\n",
    "\n",
    "# Eigen values and vectors\n",
    "def eigen_values_and_vectors(K):\n",
    "    \"\"\"\n",
    "    K: 3x3 matrix\n",
    "    return: eigen values and vectors\n",
    "    \"\"\"\n",
    "    e_values, e_vectors = LA.eig(K)\n",
    "\n",
    "    E_Vectors = np.array([x for _,x in sorted(zip(e_values,e_vectors.T),reverse=True)]).T\n",
    "    E_Values = np.array(sorted(e_values,reverse=True))\n",
    "    \n",
    "    return E_Values, E_Vectors"
   ]
  },
  {
   "cell_type": "code",
   "execution_count": 17,
   "metadata": {},
   "outputs": [],
   "source": [
    "class Vector():\n",
    "    def __init__(self, x, y, f=None):\n",
    "        self.x = x\n",
    "        self.y = y\n",
    "        self.f = f\n",
    "\n",
    "        self.f = 6420\n",
    "        self.x_correction = 2000\n",
    "        self.y_correction = 1125\n",
    "    \n",
    "    def get_vector(self):\n",
    "        return np.array([self.x - self.x_correction, self.y_correction - self.y, self.f])\n"
   ]
  },
  {
   "cell_type": "code",
   "execution_count": 18,
   "metadata": {},
   "outputs": [],
   "source": [
    "def normalise_vector(v):\n",
    "    return v / LA.norm(v)"
   ]
  },
  {
   "cell_type": "code",
   "execution_count": 19,
   "metadata": {},
   "outputs": [],
   "source": [
    "first_p1 = Vector(1204, 860, )\n",
    "first_p2 = Vector(1208, 2056, )\n",
    "first_p3 = Vector(1640, 476, )\n",
    "first_p4 = Vector(304, 1204, )\n",
    "first_p5 = Vector(1496, 2064, )\n",
    "first_p6 = Vector(2540, 872, )\n",
    "first_p7 = Vector(300, 1464, )\n",
    "first_p8 = Vector(332, 1552, )\n",
    "\n",
    "second_p1 = Vector(1764, 912, )\n",
    "second_p2 = Vector(1748, 2096, )\n",
    "second_p3 = Vector(2176, 528, )\n",
    "second_p4 = Vector(940, 1244, )\n",
    "second_p5 = Vector(2036, 2112, )\n",
    "second_p6 = Vector(3156, 912, )\n",
    "second_p7 = Vector(940, 1480, )\n",
    "second_p8 = Vector(948, 1560, )"
   ]
  },
  {
   "cell_type": "code",
   "execution_count": 20,
   "metadata": {},
   "outputs": [],
   "source": [
    "# Vectors\n",
    "first_vectors = [\n",
    "    first_p1.get_vector(),\n",
    "    first_p2.get_vector(),\n",
    "    first_p3.get_vector(),\n",
    "    first_p4.get_vector(),\n",
    "    first_p5.get_vector(),\n",
    "    first_p6.get_vector(),\n",
    "    first_p7.get_vector(),\n",
    "    first_p8.get_vector(),\n",
    "]\n",
    "\n",
    "second_vectors = [\n",
    "    second_p1.get_vector(),\n",
    "    second_p2.get_vector(),\n",
    "    second_p3.get_vector(),\n",
    "    second_p4.get_vector(),\n",
    "    second_p5.get_vector(),\n",
    "    second_p6.get_vector(),\n",
    "    second_p7.get_vector(),\n",
    "    second_p8.get_vector(),\n",
    "]\n",
    "\n",
    "# Normalise vectors\n",
    "for i in range(len(first_vectors)):\n",
    "    first_vectors[i] = normalise_vector(first_vectors[i])\n",
    "    second_vectors[i] = normalise_vector(second_vectors[i])"
   ]
  },
  {
   "cell_type": "code",
   "execution_count": 21,
   "metadata": {},
   "outputs": [
    {
     "name": "stdout",
     "output_type": "stream",
     "text": [
      "K_hat: \n",
      " [[ 7.96817446 -0.04496713 -0.70710645 -0.02521204]\n",
      " [-0.04496713 -7.67663782  0.09222648 -1.37892725]\n",
      " [-0.70710645  0.09222648 -7.84332584 -0.50324812]\n",
      " [-0.02521204 -1.37892725 -0.50324812  7.5517892 ]]\n",
      "E_Values: \n",
      " [ 7.99989536  7.69233695 -7.78237476 -7.90985755]\n",
      "E_Vectors: \n",
      " [[-0.99897815 -0.00682891  0.01974449  0.04007716]\n",
      " [ 0.003575   -0.08948678  0.92074323 -0.37975154]\n",
      " [ 0.04476779 -0.03246564  0.37785326  0.9242125 ]\n",
      " [-0.00507175  0.99543531  0.09523112 -0.00372089]]\n"
     ]
    }
   ],
   "source": [
    "# Calculate K\n",
    "K = np.zeros((3,3))\n",
    "for i in range(len(first_vectors)):\n",
    "    K += vector_outer_multiplication(first_vectors[i], second_vectors[i])\n",
    "    \n",
    "K_hat = convert_to_quartenion_matrix(K)\n",
    "E_Values, E_Vectors = eigen_values_and_vectors(K_hat)\n",
    "\n",
    "print(\"K_hat: \\n\", K_hat)\n",
    "print(\"E_Values: \\n\", E_Values)\n",
    "print(\"E_Vectors: \\n\", E_Vectors)"
   ]
  },
  {
   "cell_type": "code",
   "execution_count": 22,
   "metadata": {},
   "outputs": [],
   "source": [
    "first_p1 = Vector(1764, 908, )\n",
    "first_p2 = Vector(1752, 2096, )\n",
    "first_p3 = Vector(3156, 912, )\n",
    "first_p4 = Vector(3100, 452, )\n",
    "first_p5 = Vector(2184, 508, )\n",
    "first_p6 = Vector(360, 1020, )\n",
    "first_p7 = Vector(444, 1520, )\n",
    "first_p8 = Vector(2368, 376, )\n",
    "\n",
    "second_p1 = Vector(2248, 936, )  \n",
    "second_p2 = Vector(2240, 2116, )\n",
    "second_p3 = Vector(3764, 924, )\n",
    "second_p4 = Vector(3716, 428, )\n",
    "second_p5 = Vector(2700, 532, )\n",
    "second_p6 = Vector(980, 1048, )\n",
    "second_p7 = Vector(1052, 1508, )\n",
    "second_p8 = Vector(2896, 376, )"
   ]
  },
  {
   "cell_type": "code",
   "execution_count": 23,
   "metadata": {},
   "outputs": [],
   "source": [
    "# Vectors\n",
    "first_vectors = [\n",
    "    first_p1.get_vector(),\n",
    "    first_p2.get_vector(),\n",
    "    first_p3.get_vector(),\n",
    "    first_p4.get_vector(),\n",
    "    first_p5.get_vector(),\n",
    "    first_p6.get_vector(),\n",
    "    first_p7.get_vector(),\n",
    "    first_p8.get_vector(),\n",
    "]\n",
    "\n",
    "second_vectors = [\n",
    "    second_p1.get_vector(),\n",
    "    second_p2.get_vector(),\n",
    "    second_p3.get_vector(),\n",
    "    second_p4.get_vector(),\n",
    "    second_p5.get_vector(),\n",
    "    second_p6.get_vector(),\n",
    "    second_p7.get_vector(),\n",
    "    second_p8.get_vector(),\n",
    "]\n",
    "\n",
    "# Normalise vectors\n",
    "for i in range(len(first_vectors)):\n",
    "    first_vectors[i] = normalise_vector(first_vectors[i])\n",
    "    second_vectors[i] = normalise_vector(second_vectors[i])"
   ]
  },
  {
   "cell_type": "code",
   "execution_count": 24,
   "metadata": {},
   "outputs": [
    {
     "name": "stdout",
     "output_type": "stream",
     "text": [
      "K_hat: \n",
      " [[ 7.97127775 -0.0117053  -0.67208237  0.01558802]\n",
      " [-0.0117053  -7.62883755  0.11090831  0.40270275]\n",
      " [-0.67208237  0.11090831 -7.8488623   0.35134753]\n",
      " [ 0.01558802  0.40270275  0.35134753  7.5064221 ]]\n",
      "E_Values: \n",
      " [ 7.99979563  7.52528845 -7.6034674  -7.92161667]\n",
      "E_Vectors: \n",
      " [[-9.99101590e-01  4.49564061e-04  1.52561124e-02  3.95355652e-02]\n",
      " [ 1.03465409e-03  2.67253388e-02  9.41023518e-01 -3.37282412e-01]\n",
      " [ 4.23631313e-02  2.30120575e-02  3.36390288e-01  9.40487844e-01]\n",
      " [-5.53698635e-04  9.99377806e-01 -3.29175447e-02 -1.26542208e-02]]\n"
     ]
    }
   ],
   "source": [
    "# Calculate K\n",
    "K = np.zeros((3,3))\n",
    "for i in range(len(first_vectors)):\n",
    "    K += vector_outer_multiplication(first_vectors[i], second_vectors[i])\n",
    "    \n",
    "K_hat = convert_to_quartenion_matrix(K)\n",
    "E_Values, E_Vectors = eigen_values_and_vectors(K_hat)\n",
    "\n",
    "print(\"K_hat: \\n\", K_hat)\n",
    "print(\"E_Values: \\n\", E_Values)\n",
    "print(\"E_Vectors: \\n\", E_Vectors)"
   ]
  }
 ],
 "metadata": {
  "kernelspec": {
   "display_name": "machine-learning",
   "language": "python",
   "name": "python3"
  },
  "language_info": {
   "codemirror_mode": {
    "name": "ipython",
    "version": 3
   },
   "file_extension": ".py",
   "mimetype": "text/x-python",
   "name": "python",
   "nbconvert_exporter": "python",
   "pygments_lexer": "ipython3",
   "version": "3.8.17"
  }
 },
 "nbformat": 4,
 "nbformat_minor": 2
}
